{
 "cells": [
  {
   "cell_type": "code",
   "execution_count": 1,
   "metadata": {},
   "outputs": [],
   "source": [
    "import cv2\n",
    "import os\n",
    "import numpy as np\n",
    "import matplotlib.pyplot as plt"
   ]
  },
  {
   "cell_type": "code",
   "execution_count": 2,
   "metadata": {},
   "outputs": [],
   "source": [
    "def detect_paper(frame):\n",
    "\n",
    "    gray = cv2.cvtColor(frame,cv2.COLOR_BGR2GRAY)\n",
    "\n",
    "    blur = cv2.GaussianBlur(frame,(3,3),0)\n",
    "\n",
    "    thresh = cv2.threshold(blur,254,255,cv2.THRESH_BINARY+cv2.THRESH_OTSU)[1]\n",
    "\n",
    "    kernel = np.ones((7,7),np.uint8)\n",
    "    morph = cv2.morphologyEx(thresh,cv2.MORPH_CLOSE, kernel=kernel)\n",
    "    morph = cv2.morphologyEx(morph,cv2.MORPH_OPEN, kernel=kernel)\n",
    "\n",
    "    contours = cv2.findContours(morph, cv2.RETR_EXTERNAL, cv2.CHAIN_APPROX_SIMPLE)\n",
    "\n",
    "    contours = contours[0] if len(contours) == 2 else contours[1]\n",
    "    area_thresh = 0\n",
    "    for c in contours:\n",
    "        area = cv2.contourArea(c)\n",
    "        if area > area_thresh:\n",
    "            area_thresh = area\n",
    "            contourMax = c\n",
    "\n",
    "    #contourMax = max(contours, key=cv2.contourArea)\n",
    "\n",
    "    paper = np.zeros_like(img)\n",
    "\n",
    "    cv2.drawContours(paper,[contourMax], 0, (255,255,255),-1)\n",
    "\n",
    "    peri = cv2.arcLength(contourMax,True)\n",
    "    corner = cv2.approxPolyDP(contourMax,0.02*peri, True)\n",
    "\n",
    "    if len(corner) == 4:\n",
    "        cv2.drawContours(frame,[corner],0,(0,255,0),2)\n",
    "\n",
    "    return frame"
   ]
  },
  {
   "cell_type": "code",
   "execution_count": 4,
   "metadata": {},
   "outputs": [],
   "source": [
    "alive = True\n",
    "\n",
    "win_name = \"Camera Filters\"\n",
    "cv2.namedWindow(win_name, cv2.WINDOW_NORMAL)\n",
    "result = None\n",
    "source = cv2.VideoCapture(0)\n",
    "\n",
    "while alive:\n",
    "    has_frame, frame = source.read()\n",
    "    if not has_frame:\n",
    "        break\n",
    "\n",
    "    frame = detect_paper(frame)\n",
    "\n",
    "    cv2.imshow(win_name,frame)\n",
    "\n",
    "    key = cv2.waitKey(1)\n",
    "    if key == ord(\"Q\") or key == ord(\"q\") or key == 27:\n",
    "        alive = False"
   ]
  }
 ],
 "metadata": {
  "kernelspec": {
   "display_name": "Python 3",
   "language": "python",
   "name": "python3"
  },
  "language_info": {
   "codemirror_mode": {
    "name": "ipython",
    "version": 3
   },
   "file_extension": ".py",
   "mimetype": "text/x-python",
   "name": "python",
   "nbconvert_exporter": "python",
   "pygments_lexer": "ipython3",
   "version": "3.12.5"
  }
 },
 "nbformat": 4,
 "nbformat_minor": 2
}
